{
 "cells": [
  {
   "cell_type": "markdown",
   "metadata": {},
   "source": [
    "# Database structure "
   ]
  },
  {
   "cell_type": "code",
   "execution_count": 1,
   "metadata": {
    "collapsed": true
   },
   "outputs": [],
   "source": [
    "import pymysql "
   ]
  },
  {
   "cell_type": "code",
   "execution_count": 2,
   "metadata": {},
   "outputs": [
    {
     "data": {
      "text/plain": [
       "'\\nthis class is used to\\ncreate table \\ndrop table \\nadd column\\ndrop column \\nulter column \\n\\n'"
      ]
     },
     "execution_count": 2,
     "metadata": {},
     "output_type": "execute_result"
    }
   ],
   "source": [
    "'''\n",
    "this class is used to\n",
    "create table \n",
    "drop table \n",
    "add column\n",
    "drop column \n",
    "ulter column \n",
    "\n",
    "'''"
   ]
  },
  {
   "cell_type": "code",
   "execution_count": 6,
   "metadata": {},
   "outputs": [],
   "source": [
    "class database :\n",
    "    def __init__(self , database_name) :\n",
    "        #create connection to the database \n",
    "        self.db = pymysql.connect('127.0.0.1','root','',database_name)\n",
    "        self.cursor = self.db.cursor()\n",
    "     \n",
    "    \n",
    "    def create_table(self , table_name , column_name , column_type) :\n",
    "        \n",
    "        \"this fuction is used to create table \"\n",
    "        \" it takes three parameters. First: table_name , second: column_name , third : column_type \"\n",
    "        \" output : table with just one column \"\n",
    "        \n",
    "        try :\n",
    "            sql = \"create table \" + table_name +\"( \" +column_name + \" \" + column_type + \" )\"  #sql querry\n",
    "            self.cursor.execute(sql) \n",
    "            print(table_name +\" is created sucessfully\")\n",
    "        except :\n",
    "            print(\"error\")\n",
    "            \n",
    "            \n",
    "    def add_column(self,table_name , *args) :\n",
    "        \" this fun. is used to add columns to the table u want \"\n",
    "        \"it takes multiple parameters . First : column_name , second : any columns u want with datatype after each column name\" \n",
    "        \"like (table_name , id , int , age , int , name , char(100) , .....)\"\n",
    "        \n",
    "        try :\n",
    "            for i in range(0,len(args),2) :\n",
    "                sql = 'ALTER TABLE '+ table_name+ ' ADD ' + args[i]+ \" \" + args[i+1]\n",
    "                self.cursor.execute(sql)\n",
    "            print(\"table is updated successfully\")    \n",
    "        except :\n",
    "            print(\"error\")\n",
    "\n",
    "            \n",
    "    def drop_table(self , table_name) :\n",
    "        \"this is func. is used to drop / delete table \"\n",
    "        \"it takes one parameter : table_name\"\n",
    "        try :\n",
    "            sql = 'DROP TABLE ' + table_name;\n",
    "            self.cursor.execute(sql)\n",
    "            print(table_name , ' is dropped successfully ')\n",
    "        except :\n",
    "            print('error')\n",
    "         \n",
    "        \n",
    "    def drop_column(self , table_name , column_name) :\n",
    "        \"is used to delete column .It takes 2 parameters . First:table_name , second : column_name\"\n",
    "        \n",
    "        try :\n",
    "            sql = 'ALTER TABLE '+ table_name + ' DROP COLUMN ' + column_name\n",
    "            print(sql)\n",
    "            self.cursor.execute(sql)\n",
    "            print(column_name , ' is dropped successfully ')\n",
    "        except :\n",
    "            print('error')     \n",
    "            \n",
    "            \n",
    "            \n",
    "    def ulter_column(self , table_name , old_column_name , new_column_name='' , constarint = '' , data_type = None ) :\n",
    "        \"it used to modify column data_type , add constraint \"\n",
    "        \"it takes 5 args . First : table_name , second : old_column_name , third : new_column_name (if u eant to change it )\"\n",
    "        \"forth : constraint (if u want also )\"\n",
    "        \"fifth : data_type \"\n",
    "        \n",
    "        try :\n",
    "            if data_type != None :\n",
    "                sql = 'alter table ' + table_name + ' modify column ' + old_column_name +\" \"+  new_column_name + \" \" +  data_type + \" \" + constarint\n",
    "                self.cursor.execute(sql)\n",
    "            print(\"column is ultered successfully\")    \n",
    "        except :\n",
    "            print(\"error\")"
   ]
  },
  {
   "cell_type": "code",
   "execution_count": 7,
   "metadata": {
    "collapsed": true
   },
   "outputs": [],
   "source": [
    "# create object \n",
    "\n",
    "obj = database('ad')"
   ]
  },
  {
   "cell_type": "code",
   "execution_count": 8,
   "metadata": {},
   "outputs": [
    {
     "name": "stdout",
     "output_type": "stream",
     "text": [
      "data is created sucessfully\n"
     ]
    }
   ],
   "source": [
    "#create table \n",
    "obj.create_table('data' , 'id' , 'int')"
   ]
  },
  {
   "cell_type": "code",
   "execution_count": 9,
   "metadata": {},
   "outputs": [
    {
     "name": "stdout",
     "output_type": "stream",
     "text": [
      "table is updated successfully\n"
     ]
    }
   ],
   "source": [
    "#let's add new column \n",
    "obj.add_column('data' , 'age' , 'int' , 'weight' , 'int')"
   ]
  },
  {
   "cell_type": "code",
   "execution_count": null,
   "metadata": {
    "collapsed": true
   },
   "outputs": [],
   "source": []
  }
 ],
 "metadata": {
  "kernelspec": {
   "display_name": "Python 3",
   "language": "python",
   "name": "python3"
  },
  "language_info": {
   "codemirror_mode": {
    "name": "ipython",
    "version": 3
   },
   "file_extension": ".py",
   "mimetype": "text/x-python",
   "name": "python",
   "nbconvert_exporter": "python",
   "pygments_lexer": "ipython3",
   "version": "3.5.3"
  }
 },
 "nbformat": 4,
 "nbformat_minor": 2
}
