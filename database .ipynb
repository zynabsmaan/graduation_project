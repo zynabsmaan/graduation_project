{
 "cells": [
  {
   "cell_type": "markdown",
   "metadata": {},
   "source": [
    "# Database class"
   ]
  },
  {
   "cell_type": "code",
   "execution_count": 19,
   "metadata": {
    "collapsed": true
   },
   "outputs": [],
   "source": [
    "import pymysql\n",
    "from PIL import Image\n",
    "import numpy as np\n",
    "import cv2\n",
    "from pathlib import Path\n",
    "import re"
   ]
  },
  {
   "cell_type": "code",
   "execution_count": 122,
   "metadata": {},
   "outputs": [
    {
     "data": {
      "text/plain": [
       "' ======================================================\\nclass database : to handel connection and quarries \\nmethods :\\n * create_table : to create tables with at least one column in it. \\n * add_column : to add new columns or column to a specific table you created before. \\n * drop_table : to delete table from a database. \\n * drop_column : to delete column. \\n * ulter_table : to modify a table. \\n *insert : to insert new data\\n * delete_all : to delete all data\\n * delete : to delete based on condition \\n * read_all_data : to select all data\\n *read : to read based on condition \\n'"
      ]
     },
     "execution_count": 122,
     "metadata": {},
     "output_type": "execute_result"
    }
   ],
   "source": [
    "\"\"\" ======================================================\n",
    "class database : to handel connection and quarries \n",
    "methods :\n",
    " * create_table : to create tables with at least one column in it. \n",
    " * add_column : to add new columns or column to a specific table you created before. \n",
    " * drop_table : to delete table from a database. \n",
    " * drop_column : to delete column. \n",
    " * ulter_table : to modify a table. \n",
    " *insert : to insert new data\n",
    " * delete_all : to delete all data\n",
    " * delete : to delete based on condition \n",
    " * read_all_data : to select all data\n",
    " *read : to read based on condition \n",
    "\"\"\""
   ]
  },
  {
   "cell_type": "code",
   "execution_count": 119,
   "metadata": {},
   "outputs": [],
   "source": [
    "class database :\n",
    "    def __init__(self , database_name) :\n",
    "        #create connection to the database\n",
    "        self.databaseName = database_name\n",
    "        self.db = pymysql.connect('127.0.0.1','root','',database_name)\n",
    "        self.cursor = self.db.cursor()\n",
    "     \n",
    "    \n",
    "    def create_table(self , table_name , column_name , column_type , constraint='') :\n",
    "        \"\"\"\n",
    "        this fuction is used to create table :\n",
    "         *table_name: name of the table.\n",
    "         *column_name: basic column or any column you want.\n",
    "         *column_type: the type of the column.\n",
    "         *constraint: like not null  string, defult:no constraint.\n",
    "          output : table with just one column \".\n",
    "        \"\"\"\n",
    "        try :\n",
    "            sql = \"create table \" + table_name +\"( \" +column_name + \" \" + column_type + \" \" + constraint + \" )\"  #sql querry\n",
    "            self.cursor.execute(sql) \n",
    "            print(table_name +\" is created sucessfully\")\n",
    "        except :\n",
    "            print(\"error\")\n",
    "            \n",
    "            \n",
    "    def add_columns(self,table_name ,column_names,column_types) :\n",
    "        \"\"\"\n",
    "        to add new_columns \n",
    "         *table_name: the name of the table you want to modify\n",
    "         *column_names: list of the new column names you want to add\n",
    "         *column_types: list of types of the columns you added in the same order\n",
    "         *output :table with this new columns \n",
    "        \"\"\"        \n",
    "        try :\n",
    "            for i in range(0,len(column_names)) :\n",
    "                sql = 'ALTER TABLE '+ table_name+ ' ADD ' + column_names[i]+ \" \" + column_types[i]\n",
    "                self.cursor.execute(sql)\n",
    "            print(\"table is updated successfully\")    \n",
    "        except :\n",
    "            print(\"error\")\n",
    "\n",
    "            \n",
    "    def drop_table(self , table_name) :\n",
    "        \"\"\" is used to drop / delete table\n",
    "        *table_name : string \n",
    "        \"\"\"\n",
    "        try :\n",
    "            sql = 'DROP TABLE ' + table_name;\n",
    "            self.cursor.execute(sql)\n",
    "            print(table_name , ' is dropped successfully ')\n",
    "        except :\n",
    "            print('error')\n",
    "         \n",
    "        \n",
    "    def drop_columns(self , table_name , column_names) :\n",
    "        \"\"\"\n",
    "        is used to delete column/s :\n",
    "        *table_name: the table name (string)\n",
    "        *column_names : enter the column/s name (list\n",
    "        \"\"\"\n",
    "        try :\n",
    "            for i in column_names :\n",
    "                sql = 'ALTER TABLE '+ table_name + ' DROP COLUMN ' + column_name\n",
    "                print(sql)\n",
    "                self.cursor.execute(sql)\n",
    "            print(column_name , 'dropped successfully ')\n",
    "        except :\n",
    "            print('error')     \n",
    "            \n",
    "            \n",
    "            \n",
    "    def ulter_column(self , table_name , old_column_name , new_column_name='' , constarint = '' , data_type = None ) :\n",
    "        \"\"\"it used to modify column data_type , add constraint \"\n",
    "        \"it takes 5 args :\n",
    "        *table_name \n",
    "        *old_column_name \n",
    "        *new_column_name (if u eant to change it )\"\n",
    "        *constraint (if u want also )\"\n",
    "        *data_type \"\"\"\n",
    "        \n",
    "        try :\n",
    "            if data_type != None :\n",
    "                sql = 'alter table ' + table_name + ' modify column ' + old_column_name +\" \"+  new_column_name + \" \" +  data_type + \" \" + constarint\n",
    "                self.cursor.execute(sql)\n",
    "            print(\"column is ultered successfully\")    \n",
    "        except :\n",
    "            print(\"error\")\n",
    "            \n",
    "    \n",
    "    def insert(self , table_name, l ) :\n",
    "        \"\"\"\n",
    "        to add new row to the table \n",
    "        *table_name : the name of the table \n",
    "        *l : list of the given values and it should be 6 in length \n",
    "        \n",
    "        \"\"\"\n",
    "        sql = 'insert into ' + table_name + ' values(%s , %s , %s , %s , %s , %s) '\n",
    "        try :\n",
    "            \n",
    "            self.cursor.execute(sql, tuple(l))\n",
    "            self.db.commit()\n",
    "            print(\"row added \")\n",
    "        except :\n",
    "            print(\"error\")\n",
    "            \n",
    "            \n",
    "    def read_all_data(self , table_name) :\n",
    "        \"to read all data \"\n",
    "        \n",
    "        sql = 'select* from ' + table_name\n",
    "        try :\n",
    "            self.cursor.execute(sql)\n",
    "            row = self.cursor.fetchall()\n",
    "            return row\n",
    "        except :\n",
    "            print('error')\n",
    "            \n",
    "    def read(self , table_name , column , condition) :\n",
    "        \"\"\"\n",
    "        read the row that match the key and condition\n",
    "        *table_name : the name of the table\n",
    "        *key : which column u want \n",
    "        *condition : = where the key equal to the condition\n",
    "        output : return row/s that match/es the condition \n",
    "        \"\"\"\n",
    "        sql = 'SELECT * FROM '+ table_name + ' WHERE ('+ column +  ' = %s )'\n",
    "        try :\n",
    "            self.cursor.execute(sql ,condition)\n",
    "            row = self.cursor.fetchall()\n",
    "            return row\n",
    "        except :\n",
    "            print(\"error\")\n",
    "            \n",
    "            \n",
    "    def delete_row(self , table_name , key , condition) :\n",
    "        sql = 'DELETE FROM ' + table_name + ' WHERE ' + key +' = %s' \n",
    "        try :\n",
    "            self.cursor.execute(sql , (condition ,))\n",
    "            self.db.commit()\n",
    "            print(\"row deleted \")\n",
    "        except :\n",
    "            print(\"error\")\n",
    "    \n",
    "    def delete_all(self , table_name) :\n",
    "        \"clear all the table\"\n",
    "        sql = 'DELETE * FROM ' + table_name\n",
    "        try :\n",
    "            self.cursor.execute(sql)\n",
    "            print(\"data is cleared \")\n",
    "            \n",
    "        except :\n",
    "            print(\"errro\")\n",
    "    def close(self):\n",
    "        \"\"\"\n",
    "        close the database connection\n",
    "        \"\"\"\n",
    "        self.db.close()\n",
    "   "
   ]
  },
  {
   "cell_type": "code",
   "execution_count": 90,
   "metadata": {
    "collapsed": true
   },
   "outputs": [],
   "source": [
    "def fill_data(*args):\n",
    "    result = list()\n",
    "    for item in args :\n",
    "        result.append(item)\n",
    "    return result\n",
    "\n",
    "\n",
    "def convert_to_string(l) :\n",
    "    return ' '.join(l) \n",
    "\n",
    "\n",
    "def main():\n",
    "    main_dir = 'D:\\\\Graduation Project\\\\AD - Test Data\\\\MRI'\n",
    "    p = Path(main_dir)\n",
    "    #2 - get the list of the data (ids of patients)\n",
    "    list_of_data = [x.name for x in p.iterdir() if x.is_dir()]\n",
    "\n",
    "    data = list() # to append the data I need to insert one row \n",
    "    for _id in list_of_data : #uterate through ids\n",
    "        sub_dir1 = main_dir + \"\\\\\" + l \n",
    "        path_id = Path(sub_dir1) \n",
    "        for ray_type in path_id.iterdir() : #iterate through ray_type\n",
    "            if ray_type.is_dir() :\n",
    "                for date in ray_type.iterdir() : #iterate through date \n",
    "                    for num in date.iterdir() : \n",
    "                        x = [x.name for x in num.iterdir() if x.glob('**/*.dcm')] #get the name of the \n",
    "                        #get a list of the data I need to insert into the table \n",
    "                        data = fill_data(main_dir ,_id, ray_type.name, date.name , num.name , convert_to_string(x))\n",
    "                        obj.insert('patients' , data)\n",
    "                        #clear the list for a new row \n",
    "                        data.clear()\n",
    "                            "
   ]
  },
  {
   "cell_type": "code",
   "execution_count": 91,
   "metadata": {},
   "outputs": [
    {
     "name": "stdout",
     "output_type": "stream",
     "text": [
      "row added \n",
      "row added \n",
      "row added \n",
      "row added \n",
      "row added \n",
      "row added \n",
      "row added \n",
      "row added \n",
      "row added \n",
      "row added \n",
      "row added \n",
      "row added \n",
      "row added \n",
      "row added \n",
      "row added \n",
      "row added \n",
      "row added \n",
      "row added \n",
      "row added \n",
      "row added \n",
      "row added \n",
      "row added \n",
      "row added \n",
      "row added \n",
      "row added \n",
      "row added \n",
      "row added \n",
      "row added \n",
      "row added \n",
      "row added \n",
      "row added \n",
      "row added \n",
      "row added \n",
      "row added \n",
      "row added \n",
      "row added \n",
      "row added \n",
      "row added \n",
      "row added \n",
      "row added \n",
      "row added \n",
      "row added \n",
      "row added \n",
      "row added \n",
      "row added \n",
      "row added \n",
      "row added \n",
      "row added \n",
      "row added \n",
      "row added \n",
      "row added \n",
      "row added \n",
      "row added \n",
      "row added \n",
      "row added \n",
      "row added \n",
      "row added \n",
      "row added \n",
      "row added \n",
      "row added \n",
      "row added \n",
      "row added \n",
      "row added \n",
      "row added \n",
      "row added \n",
      "row added \n",
      "row added \n",
      "row added \n",
      "row added \n",
      "row added \n",
      "row added \n",
      "row added \n",
      "row added \n",
      "row added \n",
      "row added \n",
      "row added \n",
      "row added \n",
      "row added \n",
      "row added \n",
      "row added \n",
      "row added \n",
      "row added \n",
      "row added \n",
      "row added \n",
      "row added \n",
      "row added \n",
      "row added \n",
      "row added \n",
      "row added \n",
      "row added \n",
      "row added \n",
      "row added \n",
      "row added \n",
      "row added \n",
      "row added \n",
      "row added \n",
      "row added \n",
      "row added \n",
      "row added \n",
      "row added \n"
     ]
    }
   ],
   "source": [
    "obj = database('data')\n",
    "main()"
   ]
  },
  {
   "cell_type": "code",
   "execution_count": 93,
   "metadata": {},
   "outputs": [
    {
     "name": "stdout",
     "output_type": "stream",
     "text": [
      "SELECT * FROM patients WHERE (id = %s )\n",
      "hhhh\n"
     ]
    }
   ],
   "source": [
    "x = d.read('patients' , 'id' , '011_S_0003')"
   ]
  },
  {
   "cell_type": "code",
   "execution_count": 94,
   "metadata": {},
   "outputs": [
    {
     "data": {
      "text/plain": [
       "('D:\\\\Graduation Project\\\\AD - Test Data\\\\MRI',\n",
       " '011_S_0003',\n",
       " 'Axial_PD-T2_TSE',\n",
       " '2005-09-01_10_46_12.0',\n",
       " 'S9126',\n",
       " 'ADNI_011_S_0003_MR_Axial_PD-T2_TSE__br_raw_20050901115036667_1_S9126_I7053.dcm ADNI_011_S_0003_MR_Axial_PD-T2_TSE__br_raw_20050901115036980_10_S9126_I7053.dcm ADNI_011_S_0003_MR_Axial_PD-T2_TSE__br_raw_20050901115037480_100_S9126_I7062.dcm ADNI_011_S_0003_MR_Axial_PD-T2_TSE__br_raw_20050901115037777_101_S9126_I7062.dcm ADNI_011_S_0003_MR_Axial_PD-T2_TSE__br_raw_20050901115038074_102_S9126_I7062.dcm ADNI_011_S_0003_MR_Axial_PD-T2_TSE__br_raw_20050901115038386_103_S9126_I7062.dcm ADNI_011_S_0003_MR_Axial_PD-T2_TSE__br_raw_20050901115038683_104_S9126_I7062.dcm ADNI_011_S_0003_MR_Axial_PD-T2_TSE__br_raw_20050901115038996_105_S9126_I7062.dcm ADNI_011_S_0003_MR_Axial_PD-T2_TSE__br_raw_20050901115039308_106_S9126_I7062.dcm ADNI_011_S_0003_MR_Axial_PD-T2_TSE__br_raw_20050901115039605_107_S9126_I7062.dcm ADNI_011_S_0003_MR_Axial_PD-T2_TSE__br_raw_20050901115039917_108_S9126_I7062.dcm ADNI_011_S_0003_MR_Axial_PD-T2_TSE__br_raw_20050901115040214_109_S9126_I7062.dcm ADNI_011_S_0003_MR_Axial_PD-T2_TSE__br_raw_20050901115040714_11_S9126_I7053.dcm ADNI_011_S_0003_MR_Axial_PD-T2_TSE__br_raw_20050901115041027_110_S9126_I7062.dcm ADNI_011_S_0003_MR_Axial_PD-T2_TSE__br_raw_20050901115041339_111_S9126_I7062.dcm ADNI_011_S_0003_MR_Axial_PD-T2_TSE__br_raw_20050901115041636_112_S9126_I7062.dcm ADNI_011_S_0003_MR_Axial_PD-T2_TSE__br_raw_20050901115042167_113_S9126_I7062.dcm ADNI_011_S_0003_MR_Axial_PD-T2_TSE__br_raw_20050901115042480_114_S9126_I7062.dcm ADNI_011_S_0003_MR_Axial_PD-T2_TSE__br_raw_20050901115042792_115_S9126_I7062.dcm ADNI_011_S_0003_MR_Axial_PD-T2_TSE__br_raw_20050901115043089_116_S9126_I7062.dcm ADNI_011_S_0003_MR_Axial_PD-T2_TSE__br_raw_20050901115043402_12_S9126_I7053.dcm ADNI_011_S_0003_MR_Axial_PD-T2_TSE__br_raw_20050901115043714_13_S9126_I7053.dcm ADNI_011_S_0003_MR_Axial_PD-T2_TSE__br_raw_20050901115044214_14_S9126_I7053.dcm ADNI_011_S_0003_MR_Axial_PD-T2_TSE__br_raw_20050901115044527_15_S9126_I7053.dcm ADNI_011_S_0003_MR_Axial_PD-T2_TSE__br_raw_20050901115044824_16_S9126_I7053.dcm ADNI_011_S_0003_MR_Axial_PD-T2_TSE__br_raw_20050901115045136_17_S9126_I7053.dcm ADNI_011_S_0003_MR_Axial_PD-T2_TSE__br_raw_20050901115045433_18_S9126_I7053.dcm ADNI_011_S_0003_MR_Axial_PD-T2_TSE__br_raw_20050901115045746_19_S9126_I7053.dcm ADNI_011_S_0003_MR_Axial_PD-T2_TSE__br_raw_20050901115046042_2_S9126_I7053.dcm ADNI_011_S_0003_MR_Axial_PD-T2_TSE__br_raw_20050901115046339_20_S9126_I7053.dcm ADNI_011_S_0003_MR_Axial_PD-T2_TSE__br_raw_20050901115046652_21_S9126_I7053.dcm ADNI_011_S_0003_MR_Axial_PD-T2_TSE__br_raw_20050901115047136_22_S9126_I7053.dcm ADNI_011_S_0003_MR_Axial_PD-T2_TSE__br_raw_20050901115047449_23_S9126_I7053.dcm ADNI_011_S_0003_MR_Axial_PD-T2_TSE__br_raw_20050901115048246_24_S9126_I7053.dcm ADNI_011_S_0003_MR_Axial_PD-T2_TSE__br_raw_20050901115048542_25_S9126_I7053.dcm ADNI_011_S_0003_MR_Axial_PD-T2_TSE__br_raw_20050901115048855_26_S9126_I7053.dcm ADNI_011_S_0003_MR_Axial_PD-T2_TSE__br_raw_20050901115049167_27_S9126_I7053.dcm ADNI_011_S_0003_MR_Axial_PD-T2_TSE__br_raw_20050901115049464_28_S9126_I7053.dcm ADNI_011_S_0003_MR_Axial_PD-T2_TSE__br_raw_20050901115049777_29_S9126_I7053.dcm ADNI_011_S_0003_MR_Axial_PD-T2_TSE__br_raw_20050901115050261_3_S9126_I7053.dcm ADNI_011_S_0003_MR_Axial_PD-T2_TSE__br_raw_20050901115050574_30_S9126_I7053.dcm ADNI_011_S_0003_MR_Axial_PD-T2_TSE__br_raw_20050901115050886_31_S9126_I7053.dcm ADNI_011_S_0003_MR_Axial_PD-T2_TSE__br_raw_20050901115051183_32_S9126_I7053.dcm ADNI_011_S_0003_MR_Axial_PD-T2_TSE__br_raw_20050901115051496_33_S9126_I7053.dcm ADNI_011_S_0003_MR_Axial_PD-T2_TSE__br_raw_20050901115051808_34_S9126_I7053.dcm ADNI_011_S_0003_MR_Axial_PD-T2_TSE__br_raw_20050901115052105_35_S9126_I7053.dcm ADNI_011_S_0003_MR_Axial_PD-T2_TSE__br_raw_20050901115052417_36_S9126_I7053.dcm ADNI_011_S_0003_MR_Axial_PD-T2_TSE__br_raw_20050901115052714_37_S9126_I7053.dcm ADNI_011_S_0003_MR_Axial_PD-T2_TSE__br_raw_20050901115053027_38_S9126_I7053.dcm ADNI_011_S_0003_MR_Axial_PD-T2_TSE__br_raw_20050901115053761_39_S9126_I7053.dcm ADNI_011_S_0003_MR_Axial_PD-T2_TSE__br_raw_20050901115054058_4_S9126_I7053.dcm ADNI_011_S_0003_MR_Axial_PD-T2_TSE__br_raw_20050901115054371_40_S9126_I7053.dcm ADNI_011_S_0003_MR_Axial_PD-T2_TSE__br_raw_20050901115054667_41_S9126_I7053.dcm ADNI_011_S_0003_MR_Axial_PD-T2_TSE__br_raw_20050901115054980_42_S9126_I7053.dcm ADNI_011_S_0003_MR_Axial_PD-T2_TSE__br_raw_20050901115055292_43_S9126_I7053.dcm ADNI_011_S_0003_MR_Axial_PD-T2_TSE__br_raw_20050901115055589_44_S9126_I7053.dcm ADNI_011_S_0003_MR_Axial_PD-T2_TSE__br_raw_20050901115055902_45_S9126_I7053.dcm ADNI_011_S_0003_MR_Axial_PD-T2_TSE__br_raw_20050901115056214_46_S9126_I7053.dcm ADNI_011_S_0003_MR_Axial_PD-T2_TSE__br_raw_20050901115056699_47_S9126_I7053.dcm ADNI_011_S_0003_MR_Axial_PD-T2_TSE__br_raw_20050901115057011_48_S9126_I7053.dcm ADNI_011_S_0003_MR_Axial_PD-T2_TSE__br_raw_20050901115057339_49_S9126_I7053.dcm ADNI_011_S_0003_MR_Axial_PD-T2_TSE__br_raw_20050901115057636_5_S9126_I7053.dcm ADNI_011_S_0003_MR_Axial_PD-T2_TSE__br_raw_20050901115057949_50_S9126_I7053.dcm ADNI_011_S_0003_MR_Axial_PD-T2_TSE__br_raw_20050901115058246_51_S9126_I7053.dcm ADNI_011_S_0003_MR_Axial_PD-T2_TSE__br_raw_20050901115058558_52_S9126_I7053.dcm ADNI_011_S_0003_MR_Axial_PD-T2_TSE__br_raw_20050901115058871_53_S9126_I7053.dcm ADNI_011_S_0003_MR_Axial_PD-T2_TSE__br_raw_20050901115059355_54_S9126_I7053.dcm ADNI_011_S_0003_MR_Axial_PD-T2_TSE__br_raw_20050901115059667_55_S9126_I7053.dcm ADNI_011_S_0003_MR_Axial_PD-T2_TSE__br_raw_20050901115059964_56_S9126_I7053.dcm ADNI_011_S_0003_MR_Axial_PD-T2_TSE__br_raw_20050901115100277_57_S9126_I7053.dcm ADNI_011_S_0003_MR_Axial_PD-T2_TSE__br_raw_20050901115100574_58_S9126_I7053.dcm ADNI_011_S_0003_MR_Axial_PD-T2_TSE__br_raw_20050901115100886_59_S9126_I7062.dcm ADNI_011_S_0003_MR_Axial_PD-T2_TSE__br_raw_20050901115101183_6_S9126_I7053.dcm ADNI_011_S_0003_MR_Axial_PD-T2_TSE__br_raw_20050901115101496_60_S9126_I7062.dcm ADNI_011_S_0003_MR_Axial_PD-T2_TSE__br_raw_20050901115101808_61_S9126_I7062.dcm ADNI_011_S_0003_MR_Axial_PD-T2_TSE__br_raw_20050901115102121_62_S9126_I7062.dcm ADNI_011_S_0003_MR_Axial_PD-T2_TSE__br_raw_20050901115102605_63_S9126_I7062.dcm ADNI_011_S_0003_MR_Axial_PD-T2_TSE__br_raw_20050901115102917_64_S9126_I7062.dcm ADNI_011_S_0003_MR_Axial_PD-T2_TSE__br_raw_20050901115103214_65_S9126_I7062.dcm ADNI_011_S_0003_MR_Axial_PD-T2_TSE__br_raw_20050901115103527_66_S9126_I7062.dcm ADNI_011_S_0003_MR_Axial_PD-T2_TSE__br_raw_20050901115103839_67_S9126_I7062.dcm ADNI_011_S_0003_MR_Axial_PD-T2_TSE__br_raw_20050901115104136_68_S9126_I7062.dcm ADNI_011_S_0003_MR_Axial_PD-T2_TSE__br_raw_20050901115104449_69_S9126_I7062.dcm ADNI_011_S_0003_MR_Axial_PD-T2_TSE__br_raw_20050901115104996_7_S9126_I7053.dcm ADNI_011_S_0003_MR_Axial_PD-T2_TSE__br_raw_20050901115105308_70_S9126_I7062.dcm ADNI_011_S_0003_MR_Axial_PD-T2_TSE__br_raw_20050901115105792_71_S9126_I7062.dcm ADNI_011_S_0003_MR_Axial_PD-T2_TSE__br_raw_20050901115106105_72_S9126_I7062.dcm ADNI_011_S_0003_MR_Axial_PD-T2_TSE__br_raw_20050901115106417_73_S9126_I7062.dcm ADNI_011_S_0003_MR_Axial_PD-T2_TSE__br_raw_20050901115106714_74_S9126_I7062.dcm ADNI_011_S_0003_MR_Axial_PD-T2_TSE__br_raw_20050901115107027_75_S9126_I7062.dcm ADNI_011_S_0003_MR_Axial_PD-T2_TSE__br_raw_20050901115107339_76_S9126_I7062.dcm ADNI_011_S_0003_MR_Axial_PD-T2_TSE__br_raw_20050901115107652_77_S9126_I7062.dcm ADNI_011_S_0003_MR_Axial_PD-T2_TSE__br_raw_20050901115107964_78_S9126_I7062.dcm ADNI_011_S_0003_MR_Axial_PD-T2_TSE__br_raw_20050901115108261_79_S9126_I7062.dcm ADNI_011_S_0003_MR_Axial_PD-T2_TSE__br_raw_20050901115108761_8_S9126_I7053.dcm ADNI_011_S_0003_MR_Axial_PD-T2_TSE__br_raw_20050901115109074_80_S9126_I7062.dcm ADNI_011_S_0003_MR_Axial_PD-T2_TSE__br_raw_20050901115109371_81_S9126_I7062.dcm ADNI_011_S_0003_MR_Axial_PD-T2_TSE__br_raw_20050901115109683_82_S9126_I7062.dcm ADNI_011_S_0003_MR_Axial_PD-T2_TSE__br_raw_20050901115109980_83_S9126_I7062.dcm ADNI_011_S_0003_MR_Axial_PD-T2_TSE__br_raw_20050901115110292_84_S9126_I7062.dcm ADNI_011_S_0003_MR_Axial_PD-T2_TSE__br_raw_20050901115110621_85_S9126_I7062.dcm ADNI_011_S_0003_MR_Axial_PD-T2_TSE__br_raw_20050901115110917_86_S9126_I7062.dcm ADNI_011_S_0003_MR_Axial_PD-T2_TSE__br_raw_20050901115111417_87_S9126_I7062.dcm ADNI_011_S_0003_MR_Axial_PD-T2_TSE__br_raw_20050901115111714_88_S9126_I7062.dcm ADNI_011_S_0003_MR_Axial_PD-T2_TSE__br_raw_20050901115112027_89_S9126_I7062.dcm ADNI_011_S_0003_MR_Axial_PD-T2_TSE__br_raw_20050901115112339_9_S9126_I7053.dcm ADNI_011_S_0003_MR_Axial_PD-T2_TSE__br_raw_20050901115112652_90_S9126_I7062.dcm ADNI_011_S_0003_MR_Axial_PD-T2_TSE__br_raw_20050901115112964_91_S9126_I7062.dcm ADNI_011_S_0003_MR_Axial_PD-T2_TSE__br_raw_20050901115113261_92_S9126_I7062.dcm ADNI_011_S_0003_MR_Axial_PD-T2_TSE__br_raw_20050901115113574_93_S9126_I7062.dcm ADNI_011_S_0003_MR_Axial_PD-T2_TSE__br_raw_20050901115113886_94_S9126_I7062.dcm ADNI_011_S_0003_MR_Axial_PD-T2_TSE__br_raw_20050901115114183_95_S9126_I7062.dcm ADNI_011_S_0003_MR_Axial_PD-T2_TSE__br_raw_20050901115114683_96_S9126_I7062.dcm ADNI_011_S_0003_MR_Axial_PD-T2_TSE__br_raw_20050901115114996_97_S9126_I7062.dcm ADNI_011_S_0003_MR_Axial_PD-T2_TSE__br_raw_20050901115115292_98_S9126_I7062.dcm ADNI_011_S_0003_MR_Axial_PD-T2_TSE__br_raw_20050901115115605_99_S9126_I7062.dcm')"
      ]
     },
     "execution_count": 94,
     "metadata": {},
     "output_type": "execute_result"
    }
   ],
   "source": [
    "x[0]"
   ]
  },
  {
   "cell_type": "code",
   "execution_count": 96,
   "metadata": {},
   "outputs": [
    {
     "name": "stdout",
     "output_type": "stream",
     "text": [
      "row added \n"
     ]
    }
   ],
   "source": [
    "d.insert('patients' , [\"sss\" , \"sss\" , \"ssss\" , \"sssss\" , \"sssss\" , \"sssss\"])"
   ]
  },
  {
   "cell_type": "code",
   "execution_count": 120,
   "metadata": {},
   "outputs": [],
   "source": [
    "obj = database('data')"
   ]
  },
  {
   "cell_type": "code",
   "execution_count": 121,
   "metadata": {},
   "outputs": [
    {
     "name": "stdout",
     "output_type": "stream",
     "text": [
      "DELETE FROM patients WHERE id = %s\n",
      "start\n",
      "llll\n",
      "row deleted \n"
     ]
    }
   ],
   "source": [
    "obj.delete_row('patients' , 'id' , 'sss')"
   ]
  },
  {
   "cell_type": "code",
   "execution_count": null,
   "metadata": {
    "collapsed": true
   },
   "outputs": [],
   "source": []
  }
 ],
 "metadata": {
  "kernelspec": {
   "display_name": "Python 3",
   "language": "python",
   "name": "python3"
  },
  "language_info": {
   "codemirror_mode": {
    "name": "ipython",
    "version": 3
   },
   "file_extension": ".py",
   "mimetype": "text/x-python",
   "name": "python",
   "nbconvert_exporter": "python",
   "pygments_lexer": "ipython3",
   "version": "3.5.4"
  }
 },
 "nbformat": 4,
 "nbformat_minor": 2
}
